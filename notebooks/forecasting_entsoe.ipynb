{
 "cells": [
  {
   "cell_type": "code",
   "execution_count": 1,
   "metadata": {
    "tags": []
   },
   "outputs": [],
   "source": [
    "import numpy as np\n",
    "import pandas as pd\n",
    "import matplotlib.pyplot as plt\n",
    "import matplotlib as mpl\n",
    "from urllib.request import urlopen\n",
    "import json\n",
    "from credentials import *\n",
    "from entsoe import EntsoePandasClient\n",
    "from entsoe.mappings import lookup_area\n",
    "from pycaret.time_series import *\n",
    "import logging\n",
    "\n",
    "mpl.rcParams['figure.dpi'] = 150\n",
    "logging.disable(logging.CRITICAL)\n"
   ]
  },
  {
   "cell_type": "markdown",
   "metadata": {},
   "source": [
    "### Loading Dataset"
   ]
  },
  {
   "cell_type": "code",
   "execution_count": 2,
   "metadata": {
    "tags": []
   },
   "outputs": [
    {
     "name": "stdout",
     "output_type": "stream",
     "text": [
      "Wall time: 6.11 s\n"
     ]
    }
   ],
   "source": [
    "# Get energy data from ENTSO-E API\n",
    "country_code = 'ES'\n",
    "area = lookup_area(country_code)\n",
    "\n",
    "client = EntsoePandasClient(api_key=get_token())\n",
    "end = pd.Timestamp.now(tz=area.tz) # - pd.DateOffset(days=10)\n",
    "start = end - pd.DateOffset(weeks = 1)\n",
    "%time df_energy = client.query_generation(area, start=start,end=end, nett = True, psr_type=None)\n",
    "df_energy.set_index(df_energy.index.tz_convert(None), inplace = True)\n",
    "df_energy = df_energy.resample('H').mean()"
   ]
  },
  {
   "cell_type": "markdown",
   "metadata": {
    "tags": []
   },
   "source": [
    "### Forecasting with PyCaret"
   ]
  },
  {
   "cell_type": "code",
   "execution_count": 3,
   "metadata": {},
   "outputs": [
    {
     "data": {
      "text/html": [
       "<style type=\"text/css\">\n",
       "#T_0d017_row13_col1 {\n",
       "  background-color: lightgreen;\n",
       "}\n",
       "</style>\n",
       "<table id=\"T_0d017_\">\n",
       "  <thead>\n",
       "    <tr>\n",
       "      <th class=\"blank level0\" >&nbsp;</th>\n",
       "      <th class=\"col_heading level0 col0\" >Description</th>\n",
       "      <th class=\"col_heading level0 col1\" >Value</th>\n",
       "    </tr>\n",
       "  </thead>\n",
       "  <tbody>\n",
       "    <tr>\n",
       "      <th id=\"T_0d017_level0_row0\" class=\"row_heading level0 row0\" >0</th>\n",
       "      <td id=\"T_0d017_row0_col0\" class=\"data row0 col0\" >session_id</td>\n",
       "      <td id=\"T_0d017_row0_col1\" class=\"data row0 col1\" >2424</td>\n",
       "    </tr>\n",
       "    <tr>\n",
       "      <th id=\"T_0d017_level0_row1\" class=\"row_heading level0 row1\" >1</th>\n",
       "      <td id=\"T_0d017_row1_col0\" class=\"data row1 col0\" >Target</td>\n",
       "      <td id=\"T_0d017_row1_col1\" class=\"data row1 col1\" >Solar</td>\n",
       "    </tr>\n",
       "    <tr>\n",
       "      <th id=\"T_0d017_level0_row2\" class=\"row_heading level0 row2\" >2</th>\n",
       "      <td id=\"T_0d017_row2_col0\" class=\"data row2 col0\" >Approach</td>\n",
       "      <td id=\"T_0d017_row2_col1\" class=\"data row2 col1\" >Univariate</td>\n",
       "    </tr>\n",
       "    <tr>\n",
       "      <th id=\"T_0d017_level0_row3\" class=\"row_heading level0 row3\" >3</th>\n",
       "      <td id=\"T_0d017_row3_col0\" class=\"data row3 col0\" >Exogenous Variables</td>\n",
       "      <td id=\"T_0d017_row3_col1\" class=\"data row3 col1\" >Not Present</td>\n",
       "    </tr>\n",
       "    <tr>\n",
       "      <th id=\"T_0d017_level0_row4\" class=\"row_heading level0 row4\" >4</th>\n",
       "      <td id=\"T_0d017_row4_col0\" class=\"data row4 col0\" >Original data shape</td>\n",
       "      <td id=\"T_0d017_row4_col1\" class=\"data row4 col1\" >(168, 1)</td>\n",
       "    </tr>\n",
       "    <tr>\n",
       "      <th id=\"T_0d017_level0_row5\" class=\"row_heading level0 row5\" >5</th>\n",
       "      <td id=\"T_0d017_row5_col0\" class=\"data row5 col0\" >Transformed data shape</td>\n",
       "      <td id=\"T_0d017_row5_col1\" class=\"data row5 col1\" >(168, 1)</td>\n",
       "    </tr>\n",
       "    <tr>\n",
       "      <th id=\"T_0d017_level0_row6\" class=\"row_heading level0 row6\" >6</th>\n",
       "      <td id=\"T_0d017_row6_col0\" class=\"data row6 col0\" >Transformed train set shape</td>\n",
       "      <td id=\"T_0d017_row6_col1\" class=\"data row6 col1\" >(144, 1)</td>\n",
       "    </tr>\n",
       "    <tr>\n",
       "      <th id=\"T_0d017_level0_row7\" class=\"row_heading level0 row7\" >7</th>\n",
       "      <td id=\"T_0d017_row7_col0\" class=\"data row7 col0\" >Transformed test set shape</td>\n",
       "      <td id=\"T_0d017_row7_col1\" class=\"data row7 col1\" >(24, 1)</td>\n",
       "    </tr>\n",
       "    <tr>\n",
       "      <th id=\"T_0d017_level0_row8\" class=\"row_heading level0 row8\" >8</th>\n",
       "      <td id=\"T_0d017_row8_col0\" class=\"data row8 col0\" >Rows with missing values</td>\n",
       "      <td id=\"T_0d017_row8_col1\" class=\"data row8 col1\" >0.0%</td>\n",
       "    </tr>\n",
       "    <tr>\n",
       "      <th id=\"T_0d017_level0_row9\" class=\"row_heading level0 row9\" >9</th>\n",
       "      <td id=\"T_0d017_row9_col0\" class=\"data row9 col0\" >Fold Generator</td>\n",
       "      <td id=\"T_0d017_row9_col1\" class=\"data row9 col1\" >ExpandingWindowSplitter</td>\n",
       "    </tr>\n",
       "    <tr>\n",
       "      <th id=\"T_0d017_level0_row10\" class=\"row_heading level0 row10\" >10</th>\n",
       "      <td id=\"T_0d017_row10_col0\" class=\"data row10 col0\" >Fold Number</td>\n",
       "      <td id=\"T_0d017_row10_col1\" class=\"data row10 col1\" >3</td>\n",
       "    </tr>\n",
       "    <tr>\n",
       "      <th id=\"T_0d017_level0_row11\" class=\"row_heading level0 row11\" >11</th>\n",
       "      <td id=\"T_0d017_row11_col0\" class=\"data row11 col0\" >Enforce Prediction Interval</td>\n",
       "      <td id=\"T_0d017_row11_col1\" class=\"data row11 col1\" >False</td>\n",
       "    </tr>\n",
       "    <tr>\n",
       "      <th id=\"T_0d017_level0_row12\" class=\"row_heading level0 row12\" >12</th>\n",
       "      <td id=\"T_0d017_row12_col0\" class=\"data row12 col0\" >Seasonal Period(s) Tested</td>\n",
       "      <td id=\"T_0d017_row12_col1\" class=\"data row12 col1\" >24</td>\n",
       "    </tr>\n",
       "    <tr>\n",
       "      <th id=\"T_0d017_level0_row13\" class=\"row_heading level0 row13\" >13</th>\n",
       "      <td id=\"T_0d017_row13_col0\" class=\"data row13 col0\" >Seasonality Present</td>\n",
       "      <td id=\"T_0d017_row13_col1\" class=\"data row13 col1\" >True</td>\n",
       "    </tr>\n",
       "    <tr>\n",
       "      <th id=\"T_0d017_level0_row14\" class=\"row_heading level0 row14\" >14</th>\n",
       "      <td id=\"T_0d017_row14_col0\" class=\"data row14 col0\" >Seasonalities Detected</td>\n",
       "      <td id=\"T_0d017_row14_col1\" class=\"data row14 col1\" >[24]</td>\n",
       "    </tr>\n",
       "    <tr>\n",
       "      <th id=\"T_0d017_level0_row15\" class=\"row_heading level0 row15\" >15</th>\n",
       "      <td id=\"T_0d017_row15_col0\" class=\"data row15 col0\" >Primary Seasonality</td>\n",
       "      <td id=\"T_0d017_row15_col1\" class=\"data row15 col1\" >24</td>\n",
       "    </tr>\n",
       "    <tr>\n",
       "      <th id=\"T_0d017_level0_row16\" class=\"row_heading level0 row16\" >16</th>\n",
       "      <td id=\"T_0d017_row16_col0\" class=\"data row16 col0\" >Target Strictly Positive</td>\n",
       "      <td id=\"T_0d017_row16_col1\" class=\"data row16 col1\" >True</td>\n",
       "    </tr>\n",
       "    <tr>\n",
       "      <th id=\"T_0d017_level0_row17\" class=\"row_heading level0 row17\" >17</th>\n",
       "      <td id=\"T_0d017_row17_col0\" class=\"data row17 col0\" >Target White Noise</td>\n",
       "      <td id=\"T_0d017_row17_col1\" class=\"data row17 col1\" >No</td>\n",
       "    </tr>\n",
       "    <tr>\n",
       "      <th id=\"T_0d017_level0_row18\" class=\"row_heading level0 row18\" >18</th>\n",
       "      <td id=\"T_0d017_row18_col0\" class=\"data row18 col0\" >Recommended d</td>\n",
       "      <td id=\"T_0d017_row18_col1\" class=\"data row18 col1\" >0</td>\n",
       "    </tr>\n",
       "    <tr>\n",
       "      <th id=\"T_0d017_level0_row19\" class=\"row_heading level0 row19\" >19</th>\n",
       "      <td id=\"T_0d017_row19_col0\" class=\"data row19 col0\" >Recommended Seasonal D</td>\n",
       "      <td id=\"T_0d017_row19_col1\" class=\"data row19 col1\" >1</td>\n",
       "    </tr>\n",
       "    <tr>\n",
       "      <th id=\"T_0d017_level0_row20\" class=\"row_heading level0 row20\" >20</th>\n",
       "      <td id=\"T_0d017_row20_col0\" class=\"data row20 col0\" >Preprocess</td>\n",
       "      <td id=\"T_0d017_row20_col1\" class=\"data row20 col1\" >False</td>\n",
       "    </tr>\n",
       "    <tr>\n",
       "      <th id=\"T_0d017_level0_row21\" class=\"row_heading level0 row21\" >21</th>\n",
       "      <td id=\"T_0d017_row21_col0\" class=\"data row21 col0\" >CPU Jobs</td>\n",
       "      <td id=\"T_0d017_row21_col1\" class=\"data row21 col1\" >-1</td>\n",
       "    </tr>\n",
       "    <tr>\n",
       "      <th id=\"T_0d017_level0_row22\" class=\"row_heading level0 row22\" >22</th>\n",
       "      <td id=\"T_0d017_row22_col0\" class=\"data row22 col0\" >Use GPU</td>\n",
       "      <td id=\"T_0d017_row22_col1\" class=\"data row22 col1\" >False</td>\n",
       "    </tr>\n",
       "    <tr>\n",
       "      <th id=\"T_0d017_level0_row23\" class=\"row_heading level0 row23\" >23</th>\n",
       "      <td id=\"T_0d017_row23_col0\" class=\"data row23 col0\" >Log Experiment</td>\n",
       "      <td id=\"T_0d017_row23_col1\" class=\"data row23 col1\" >False</td>\n",
       "    </tr>\n",
       "    <tr>\n",
       "      <th id=\"T_0d017_level0_row24\" class=\"row_heading level0 row24\" >24</th>\n",
       "      <td id=\"T_0d017_row24_col0\" class=\"data row24 col0\" >Experiment Name</td>\n",
       "      <td id=\"T_0d017_row24_col1\" class=\"data row24 col1\" >ts-default-name</td>\n",
       "    </tr>\n",
       "    <tr>\n",
       "      <th id=\"T_0d017_level0_row25\" class=\"row_heading level0 row25\" >25</th>\n",
       "      <td id=\"T_0d017_row25_col0\" class=\"data row25 col0\" >USI</td>\n",
       "      <td id=\"T_0d017_row25_col1\" class=\"data row25 col1\" >217e</td>\n",
       "    </tr>\n",
       "  </tbody>\n",
       "</table>\n"
      ],
      "text/plain": [
       "<pandas.io.formats.style.Styler at 0x2c6216e9f48>"
      ]
     },
     "metadata": {},
     "output_type": "display_data"
    }
   ],
   "source": [
    "ts = setup(data = df_energy['Solar'], fh = 24,\n",
    "           enforce_exogenous = False, fold = 3)\n",
    "           "
   ]
  },
  {
   "cell_type": "code",
   "execution_count": 36,
   "metadata": {},
   "outputs": [
    {
     "data": {
      "text/html": [],
      "text/plain": [
       "<IPython.core.display.HTML object>"
      ]
     },
     "metadata": {},
     "output_type": "display_data"
    },
    {
     "data": {
      "text/html": [
       "<style type=\"text/css\">\n",
       "</style>\n",
       "<table id=\"T_6a9a1_\">\n",
       "  <thead>\n",
       "    <tr>\n",
       "      <th class=\"blank level0\" >&nbsp;</th>\n",
       "      <th class=\"col_heading level0 col0\" >MASE</th>\n",
       "      <th class=\"col_heading level0 col1\" >RMSSE</th>\n",
       "      <th class=\"col_heading level0 col2\" >MAE</th>\n",
       "      <th class=\"col_heading level0 col3\" >RMSE</th>\n",
       "      <th class=\"col_heading level0 col4\" >MAPE</th>\n",
       "      <th class=\"col_heading level0 col5\" >SMAPE</th>\n",
       "      <th class=\"col_heading level0 col6\" >R2</th>\n",
       "    </tr>\n",
       "  </thead>\n",
       "  <tbody>\n",
       "    <tr>\n",
       "      <th id=\"T_6a9a1_level0_row0\" class=\"row_heading level0 row0\" >Test</th>\n",
       "      <td id=\"T_6a9a1_row0_col0\" class=\"data row0 col0\" >0.6250</td>\n",
       "      <td id=\"T_6a9a1_row0_col1\" class=\"data row0 col1\" >0.5625</td>\n",
       "      <td id=\"T_6a9a1_row0_col2\" class=\"data row0 col2\" >267.7338</td>\n",
       "      <td id=\"T_6a9a1_row0_col3\" class=\"data row0 col3\" >376.4700</td>\n",
       "      <td id=\"T_6a9a1_row0_col4\" class=\"data row0 col4\" >0.0627</td>\n",
       "      <td id=\"T_6a9a1_row0_col5\" class=\"data row0 col5\" >0.0641</td>\n",
       "      <td id=\"T_6a9a1_row0_col6\" class=\"data row0 col6\" >0.9941</td>\n",
       "    </tr>\n",
       "  </tbody>\n",
       "</table>\n"
      ],
      "text/plain": [
       "<pandas.io.formats.style.Styler at 0x2c61e471508>"
      ]
     },
     "metadata": {},
     "output_type": "display_data"
    },
    {
     "data": {
      "application/vnd.jupyter.widget-view+json": {
       "model_id": "",
       "version_major": 2,
       "version_minor": 0
      },
      "text/plain": [
       "Processing:   0%|          | 0/4 [00:00<?, ?it/s]"
      ]
     },
     "metadata": {},
     "output_type": "display_data"
    }
   ],
   "source": [
    "model = create_model('exp_smooth', cross_validation = False)"
   ]
  },
  {
   "cell_type": "code",
   "execution_count": 50,
   "metadata": {},
   "outputs": [
    {
     "data": {
      "application/vnd.plotly.v1+json": {
       "config": {
        "plotlyServerURL": "https://plot.ly"
       },
       "data": [
        {
         "line": {
          "color": "rgb(31, 119, 180)",
          "width": 2
         },
         "marker": {
          "color": "rgb(31, 119, 180)",
          "size": 5
         },
         "mode": "lines+markers",
         "name": "Solar",
         "type": "scatter",
         "x": [
          "2022-07-03T20:00:00",
          "2022-07-03T21:00:00",
          "2022-07-03T22:00:00",
          "2022-07-03T23:00:00",
          "2022-07-04T00:00:00",
          "2022-07-04T01:00:00",
          "2022-07-04T02:00:00",
          "2022-07-04T03:00:00",
          "2022-07-04T04:00:00",
          "2022-07-04T05:00:00",
          "2022-07-04T06:00:00",
          "2022-07-04T07:00:00",
          "2022-07-04T08:00:00",
          "2022-07-04T09:00:00",
          "2022-07-04T10:00:00",
          "2022-07-04T11:00:00",
          "2022-07-04T12:00:00",
          "2022-07-04T13:00:00",
          "2022-07-04T14:00:00",
          "2022-07-04T15:00:00",
          "2022-07-04T16:00:00",
          "2022-07-04T17:00:00",
          "2022-07-04T18:00:00",
          "2022-07-04T19:00:00",
          "2022-07-04T20:00:00",
          "2022-07-04T21:00:00",
          "2022-07-04T22:00:00",
          "2022-07-04T23:00:00",
          "2022-07-05T00:00:00",
          "2022-07-05T01:00:00",
          "2022-07-05T02:00:00",
          "2022-07-05T03:00:00",
          "2022-07-05T04:00:00",
          "2022-07-05T05:00:00",
          "2022-07-05T06:00:00",
          "2022-07-05T07:00:00",
          "2022-07-05T08:00:00",
          "2022-07-05T09:00:00",
          "2022-07-05T10:00:00",
          "2022-07-05T11:00:00",
          "2022-07-05T12:00:00",
          "2022-07-05T13:00:00",
          "2022-07-05T14:00:00",
          "2022-07-05T15:00:00",
          "2022-07-05T16:00:00",
          "2022-07-05T17:00:00",
          "2022-07-05T18:00:00",
          "2022-07-05T19:00:00",
          "2022-07-05T20:00:00",
          "2022-07-05T21:00:00",
          "2022-07-05T22:00:00",
          "2022-07-05T23:00:00",
          "2022-07-06T00:00:00",
          "2022-07-06T01:00:00",
          "2022-07-06T02:00:00",
          "2022-07-06T03:00:00",
          "2022-07-06T04:00:00",
          "2022-07-06T05:00:00",
          "2022-07-06T06:00:00",
          "2022-07-06T07:00:00",
          "2022-07-06T08:00:00",
          "2022-07-06T09:00:00",
          "2022-07-06T10:00:00",
          "2022-07-06T11:00:00",
          "2022-07-06T12:00:00",
          "2022-07-06T13:00:00",
          "2022-07-06T14:00:00",
          "2022-07-06T15:00:00",
          "2022-07-06T16:00:00",
          "2022-07-06T17:00:00",
          "2022-07-06T18:00:00",
          "2022-07-06T19:00:00",
          "2022-07-06T20:00:00",
          "2022-07-06T21:00:00",
          "2022-07-06T22:00:00",
          "2022-07-06T23:00:00",
          "2022-07-07T00:00:00",
          "2022-07-07T01:00:00",
          "2022-07-07T02:00:00",
          "2022-07-07T03:00:00",
          "2022-07-07T04:00:00",
          "2022-07-07T05:00:00",
          "2022-07-07T06:00:00",
          "2022-07-07T07:00:00",
          "2022-07-07T08:00:00",
          "2022-07-07T09:00:00",
          "2022-07-07T10:00:00",
          "2022-07-07T11:00:00",
          "2022-07-07T12:00:00",
          "2022-07-07T13:00:00",
          "2022-07-07T14:00:00",
          "2022-07-07T15:00:00",
          "2022-07-07T16:00:00",
          "2022-07-07T17:00:00",
          "2022-07-07T18:00:00",
          "2022-07-07T19:00:00",
          "2022-07-07T20:00:00",
          "2022-07-07T21:00:00",
          "2022-07-07T22:00:00",
          "2022-07-07T23:00:00",
          "2022-07-08T00:00:00",
          "2022-07-08T01:00:00",
          "2022-07-08T02:00:00",
          "2022-07-08T03:00:00",
          "2022-07-08T04:00:00",
          "2022-07-08T05:00:00",
          "2022-07-08T06:00:00",
          "2022-07-08T07:00:00",
          "2022-07-08T08:00:00",
          "2022-07-08T09:00:00",
          "2022-07-08T10:00:00",
          "2022-07-08T11:00:00",
          "2022-07-08T12:00:00",
          "2022-07-08T13:00:00",
          "2022-07-08T14:00:00",
          "2022-07-08T15:00:00",
          "2022-07-08T16:00:00",
          "2022-07-08T17:00:00",
          "2022-07-08T18:00:00",
          "2022-07-08T19:00:00",
          "2022-07-08T20:00:00",
          "2022-07-08T21:00:00",
          "2022-07-08T22:00:00",
          "2022-07-08T23:00:00",
          "2022-07-09T00:00:00",
          "2022-07-09T01:00:00",
          "2022-07-09T02:00:00",
          "2022-07-09T03:00:00",
          "2022-07-09T04:00:00",
          "2022-07-09T05:00:00",
          "2022-07-09T06:00:00",
          "2022-07-09T07:00:00",
          "2022-07-09T08:00:00",
          "2022-07-09T09:00:00",
          "2022-07-09T10:00:00",
          "2022-07-09T11:00:00",
          "2022-07-09T12:00:00",
          "2022-07-09T13:00:00",
          "2022-07-09T14:00:00",
          "2022-07-09T15:00:00",
          "2022-07-09T16:00:00",
          "2022-07-09T17:00:00",
          "2022-07-09T18:00:00",
          "2022-07-09T19:00:00",
          "2022-07-09T20:00:00",
          "2022-07-09T21:00:00",
          "2022-07-09T22:00:00",
          "2022-07-09T23:00:00",
          "2022-07-10T00:00:00",
          "2022-07-10T01:00:00",
          "2022-07-10T02:00:00",
          "2022-07-10T03:00:00",
          "2022-07-10T04:00:00",
          "2022-07-10T05:00:00",
          "2022-07-10T06:00:00",
          "2022-07-10T07:00:00",
          "2022-07-10T08:00:00",
          "2022-07-10T09:00:00",
          "2022-07-10T10:00:00",
          "2022-07-10T11:00:00",
          "2022-07-10T12:00:00",
          "2022-07-10T13:00:00",
          "2022-07-10T14:00:00",
          "2022-07-10T15:00:00",
          "2022-07-10T16:00:00",
          "2022-07-10T17:00:00",
          "2022-07-10T18:00:00",
          "2022-07-10T19:00:00",
          "2022-07-10T20:00:00",
          "2022-07-10T21:00:00",
          "2022-07-10T22:00:00",
          "2022-07-10T23:00:00",
          "2022-07-11T00:00:00",
          "2022-07-11T01:00:00",
          "2022-07-11T02:00:00",
          "2022-07-11T03:00:00",
          "2022-07-11T04:00:00",
          "2022-07-11T05:00:00",
          "2022-07-11T06:00:00",
          "2022-07-11T07:00:00"
         ],
         "xaxis": "x",
         "y": [
          497.3333333333333,
          474,
          463,
          367,
          287,
          273,
          273,
          262,
          193,
          355,
          2765,
          6824,
          9833,
          11576,
          12699,
          12962,
          12975,
          12659,
          12260,
          11898,
          11013,
          9013,
          5391,
          1910,
          872,
          787,
          551,
          398,
          356,
          313,
          328,
          328,
          313,
          460,
          2878,
          6538,
          9398,
          11040,
          11776,
          12230,
          12315,
          11951,
          10679,
          9815,
          9105,
          7066,
          4319,
          1466,
          628,
          589,
          567,
          543,
          504,
          387,
          321,
          273,
          202,
          355,
          2397,
          5705,
          8308,
          9989,
          11211,
          12018,
          11862,
          11366,
          10931,
          10151,
          9337,
          8247,
          4800,
          1505,
          657,
          616,
          615,
          574,
          592,
          604,
          608,
          609,
          515,
          574,
          3064,
          7380,
          10226,
          11651,
          12298,
          12668,
          12826,
          12746,
          12296,
          12048,
          11119,
          9200,
          5392,
          1700,
          678,
          646,
          651,
          649,
          650,
          643,
          636,
          639,
          503,
          664,
          3631,
          8460,
          10901,
          11514,
          11923,
          12106,
          12268,
          12246,
          12093,
          11981,
          11355,
          9608,
          5751,
          1765,
          734,
          653,
          649,
          651,
          655,
          643,
          646,
          637,
          473,
          737,
          3733,
          8370,
          10994,
          11783,
          12226,
          12481,
          12530,
          12342,
          12004,
          11548,
          10851,
          9443,
          5600,
          1658,
          703,
          658,
          649,
          647,
          651,
          651,
          650,
          647,
          517,
          703,
          3440,
          7749,
          10723,
          11208,
          11664,
          11786,
          11791,
          11649,
          11398,
          10924,
          10210,
          8749,
          5090,
          1575,
          null,
          null,
          null,
          null,
          null,
          null,
          null,
          null,
          null,
          null,
          null,
          null
         ],
         "yaxis": "y"
        },
        {
         "line": {
          "color": "rgb(255, 127, 14)",
          "width": 2
         },
         "marker": {
          "color": "rgb(255, 127, 14)",
          "size": 5
         },
         "mode": "lines+markers",
         "name": "Exponential Smoothing",
         "type": "scatter",
         "x": [
          "2022-07-03T20:00:00",
          "2022-07-03T21:00:00",
          "2022-07-03T22:00:00",
          "2022-07-03T23:00:00",
          "2022-07-04T00:00:00",
          "2022-07-04T01:00:00",
          "2022-07-04T02:00:00",
          "2022-07-04T03:00:00",
          "2022-07-04T04:00:00",
          "2022-07-04T05:00:00",
          "2022-07-04T06:00:00",
          "2022-07-04T07:00:00",
          "2022-07-04T08:00:00",
          "2022-07-04T09:00:00",
          "2022-07-04T10:00:00",
          "2022-07-04T11:00:00",
          "2022-07-04T12:00:00",
          "2022-07-04T13:00:00",
          "2022-07-04T14:00:00",
          "2022-07-04T15:00:00",
          "2022-07-04T16:00:00",
          "2022-07-04T17:00:00",
          "2022-07-04T18:00:00",
          "2022-07-04T19:00:00",
          "2022-07-04T20:00:00",
          "2022-07-04T21:00:00",
          "2022-07-04T22:00:00",
          "2022-07-04T23:00:00",
          "2022-07-05T00:00:00",
          "2022-07-05T01:00:00",
          "2022-07-05T02:00:00",
          "2022-07-05T03:00:00",
          "2022-07-05T04:00:00",
          "2022-07-05T05:00:00",
          "2022-07-05T06:00:00",
          "2022-07-05T07:00:00",
          "2022-07-05T08:00:00",
          "2022-07-05T09:00:00",
          "2022-07-05T10:00:00",
          "2022-07-05T11:00:00",
          "2022-07-05T12:00:00",
          "2022-07-05T13:00:00",
          "2022-07-05T14:00:00",
          "2022-07-05T15:00:00",
          "2022-07-05T16:00:00",
          "2022-07-05T17:00:00",
          "2022-07-05T18:00:00",
          "2022-07-05T19:00:00",
          "2022-07-05T20:00:00",
          "2022-07-05T21:00:00",
          "2022-07-05T22:00:00",
          "2022-07-05T23:00:00",
          "2022-07-06T00:00:00",
          "2022-07-06T01:00:00",
          "2022-07-06T02:00:00",
          "2022-07-06T03:00:00",
          "2022-07-06T04:00:00",
          "2022-07-06T05:00:00",
          "2022-07-06T06:00:00",
          "2022-07-06T07:00:00",
          "2022-07-06T08:00:00",
          "2022-07-06T09:00:00",
          "2022-07-06T10:00:00",
          "2022-07-06T11:00:00",
          "2022-07-06T12:00:00",
          "2022-07-06T13:00:00",
          "2022-07-06T14:00:00",
          "2022-07-06T15:00:00",
          "2022-07-06T16:00:00",
          "2022-07-06T17:00:00",
          "2022-07-06T18:00:00",
          "2022-07-06T19:00:00",
          "2022-07-06T20:00:00",
          "2022-07-06T21:00:00",
          "2022-07-06T22:00:00",
          "2022-07-06T23:00:00",
          "2022-07-07T00:00:00",
          "2022-07-07T01:00:00",
          "2022-07-07T02:00:00",
          "2022-07-07T03:00:00",
          "2022-07-07T04:00:00",
          "2022-07-07T05:00:00",
          "2022-07-07T06:00:00",
          "2022-07-07T07:00:00",
          "2022-07-07T08:00:00",
          "2022-07-07T09:00:00",
          "2022-07-07T10:00:00",
          "2022-07-07T11:00:00",
          "2022-07-07T12:00:00",
          "2022-07-07T13:00:00",
          "2022-07-07T14:00:00",
          "2022-07-07T15:00:00",
          "2022-07-07T16:00:00",
          "2022-07-07T17:00:00",
          "2022-07-07T18:00:00",
          "2022-07-07T19:00:00",
          "2022-07-07T20:00:00",
          "2022-07-07T21:00:00",
          "2022-07-07T22:00:00",
          "2022-07-07T23:00:00",
          "2022-07-08T00:00:00",
          "2022-07-08T01:00:00",
          "2022-07-08T02:00:00",
          "2022-07-08T03:00:00",
          "2022-07-08T04:00:00",
          "2022-07-08T05:00:00",
          "2022-07-08T06:00:00",
          "2022-07-08T07:00:00",
          "2022-07-08T08:00:00",
          "2022-07-08T09:00:00",
          "2022-07-08T10:00:00",
          "2022-07-08T11:00:00",
          "2022-07-08T12:00:00",
          "2022-07-08T13:00:00",
          "2022-07-08T14:00:00",
          "2022-07-08T15:00:00",
          "2022-07-08T16:00:00",
          "2022-07-08T17:00:00",
          "2022-07-08T18:00:00",
          "2022-07-08T19:00:00",
          "2022-07-08T20:00:00",
          "2022-07-08T21:00:00",
          "2022-07-08T22:00:00",
          "2022-07-08T23:00:00",
          "2022-07-09T00:00:00",
          "2022-07-09T01:00:00",
          "2022-07-09T02:00:00",
          "2022-07-09T03:00:00",
          "2022-07-09T04:00:00",
          "2022-07-09T05:00:00",
          "2022-07-09T06:00:00",
          "2022-07-09T07:00:00",
          "2022-07-09T08:00:00",
          "2022-07-09T09:00:00",
          "2022-07-09T10:00:00",
          "2022-07-09T11:00:00",
          "2022-07-09T12:00:00",
          "2022-07-09T13:00:00",
          "2022-07-09T14:00:00",
          "2022-07-09T15:00:00",
          "2022-07-09T16:00:00",
          "2022-07-09T17:00:00",
          "2022-07-09T18:00:00",
          "2022-07-09T19:00:00",
          "2022-07-09T20:00:00",
          "2022-07-09T21:00:00",
          "2022-07-09T22:00:00",
          "2022-07-09T23:00:00",
          "2022-07-10T00:00:00",
          "2022-07-10T01:00:00",
          "2022-07-10T02:00:00",
          "2022-07-10T03:00:00",
          "2022-07-10T04:00:00",
          "2022-07-10T05:00:00",
          "2022-07-10T06:00:00",
          "2022-07-10T07:00:00",
          "2022-07-10T08:00:00",
          "2022-07-10T09:00:00",
          "2022-07-10T10:00:00",
          "2022-07-10T11:00:00",
          "2022-07-10T12:00:00",
          "2022-07-10T13:00:00",
          "2022-07-10T14:00:00",
          "2022-07-10T15:00:00",
          "2022-07-10T16:00:00",
          "2022-07-10T17:00:00",
          "2022-07-10T18:00:00",
          "2022-07-10T19:00:00",
          "2022-07-10T20:00:00",
          "2022-07-10T21:00:00",
          "2022-07-10T22:00:00",
          "2022-07-10T23:00:00",
          "2022-07-11T00:00:00",
          "2022-07-11T01:00:00",
          "2022-07-11T02:00:00",
          "2022-07-11T03:00:00",
          "2022-07-11T04:00:00",
          "2022-07-11T05:00:00",
          "2022-07-11T06:00:00",
          "2022-07-11T07:00:00"
         ],
         "xaxis": "x",
         "y": [
          null,
          null,
          null,
          null,
          null,
          null,
          null,
          null,
          null,
          null,
          null,
          null,
          null,
          null,
          null,
          null,
          null,
          null,
          null,
          null,
          null,
          null,
          null,
          null,
          null,
          null,
          null,
          null,
          null,
          null,
          null,
          null,
          null,
          null,
          null,
          null,
          null,
          null,
          null,
          null,
          null,
          null,
          null,
          null,
          null,
          null,
          null,
          null,
          null,
          null,
          null,
          null,
          null,
          null,
          null,
          null,
          null,
          null,
          null,
          null,
          null,
          null,
          null,
          null,
          null,
          null,
          null,
          null,
          null,
          null,
          null,
          null,
          null,
          null,
          null,
          null,
          null,
          null,
          null,
          null,
          null,
          null,
          null,
          null,
          null,
          null,
          null,
          null,
          null,
          null,
          null,
          null,
          null,
          null,
          null,
          null,
          null,
          null,
          null,
          null,
          null,
          null,
          null,
          null,
          null,
          null,
          null,
          null,
          null,
          null,
          null,
          null,
          null,
          null,
          null,
          null,
          null,
          null,
          null,
          null,
          null,
          null,
          null,
          null,
          null,
          null,
          null,
          null,
          null,
          null,
          null,
          null,
          null,
          null,
          null,
          null,
          null,
          null,
          null,
          null,
          null,
          null,
          null,
          null,
          727.2426,
          680.7687,
          636.0693,
          596.3528,
          589.0722,
          566.7158,
          566.3962,
          577.0904,
          472.2007,
          599.1386,
          3258.1411,
          7647.019,
          10410.5976,
          11587.3988,
          12270.9926,
          12636.1048,
          12648.5066,
          12386.8711,
          11868.3853,
          11413.8359,
          10620.7023,
          8914.1097,
          5281.7081,
          1685.7787,
          739.1307,
          691.8895,
          646.4529,
          606.0814,
          598.6755,
          575.9484,
          575.6173,
          586.4792,
          479.8779,
          608.8729,
          3311.041,
          7771.094
         ],
         "yaxis": "y"
        }
       ],
       "layout": {
        "autosize": true,
        "showlegend": true,
        "template": {
         "data": {
          "bar": [
           {
            "error_x": {
             "color": "rgb(51,51,51)"
            },
            "error_y": {
             "color": "rgb(51,51,51)"
            },
            "marker": {
             "line": {
              "color": "rgb(237,237,237)",
              "width": 0.5
             },
             "pattern": {
              "fillmode": "overlay",
              "size": 10,
              "solidity": 0.2
             }
            },
            "type": "bar"
           }
          ],
          "barpolar": [
           {
            "marker": {
             "line": {
              "color": "rgb(237,237,237)",
              "width": 0.5
             },
             "pattern": {
              "fillmode": "overlay",
              "size": 10,
              "solidity": 0.2
             }
            },
            "type": "barpolar"
           }
          ],
          "carpet": [
           {
            "aaxis": {
             "endlinecolor": "rgb(51,51,51)",
             "gridcolor": "white",
             "linecolor": "white",
             "minorgridcolor": "white",
             "startlinecolor": "rgb(51,51,51)"
            },
            "baxis": {
             "endlinecolor": "rgb(51,51,51)",
             "gridcolor": "white",
             "linecolor": "white",
             "minorgridcolor": "white",
             "startlinecolor": "rgb(51,51,51)"
            },
            "type": "carpet"
           }
          ],
          "choropleth": [
           {
            "colorbar": {
             "outlinewidth": 0,
             "tickcolor": "rgb(237,237,237)",
             "ticklen": 6,
             "ticks": "inside"
            },
            "type": "choropleth"
           }
          ],
          "contour": [
           {
            "colorbar": {
             "outlinewidth": 0,
             "tickcolor": "rgb(237,237,237)",
             "ticklen": 6,
             "ticks": "inside"
            },
            "colorscale": [
             [
              0,
              "rgb(20,44,66)"
             ],
             [
              1,
              "rgb(90,179,244)"
             ]
            ],
            "type": "contour"
           }
          ],
          "contourcarpet": [
           {
            "colorbar": {
             "outlinewidth": 0,
             "tickcolor": "rgb(237,237,237)",
             "ticklen": 6,
             "ticks": "inside"
            },
            "type": "contourcarpet"
           }
          ],
          "heatmap": [
           {
            "colorbar": {
             "outlinewidth": 0,
             "tickcolor": "rgb(237,237,237)",
             "ticklen": 6,
             "ticks": "inside"
            },
            "colorscale": [
             [
              0,
              "rgb(20,44,66)"
             ],
             [
              1,
              "rgb(90,179,244)"
             ]
            ],
            "type": "heatmap"
           }
          ],
          "heatmapgl": [
           {
            "colorbar": {
             "outlinewidth": 0,
             "tickcolor": "rgb(237,237,237)",
             "ticklen": 6,
             "ticks": "inside"
            },
            "colorscale": [
             [
              0,
              "rgb(20,44,66)"
             ],
             [
              1,
              "rgb(90,179,244)"
             ]
            ],
            "type": "heatmapgl"
           }
          ],
          "histogram": [
           {
            "marker": {
             "pattern": {
              "fillmode": "overlay",
              "size": 10,
              "solidity": 0.2
             }
            },
            "type": "histogram"
           }
          ],
          "histogram2d": [
           {
            "colorbar": {
             "outlinewidth": 0,
             "tickcolor": "rgb(237,237,237)",
             "ticklen": 6,
             "ticks": "inside"
            },
            "colorscale": [
             [
              0,
              "rgb(20,44,66)"
             ],
             [
              1,
              "rgb(90,179,244)"
             ]
            ],
            "type": "histogram2d"
           }
          ],
          "histogram2dcontour": [
           {
            "colorbar": {
             "outlinewidth": 0,
             "tickcolor": "rgb(237,237,237)",
             "ticklen": 6,
             "ticks": "inside"
            },
            "colorscale": [
             [
              0,
              "rgb(20,44,66)"
             ],
             [
              1,
              "rgb(90,179,244)"
             ]
            ],
            "type": "histogram2dcontour"
           }
          ],
          "mesh3d": [
           {
            "colorbar": {
             "outlinewidth": 0,
             "tickcolor": "rgb(237,237,237)",
             "ticklen": 6,
             "ticks": "inside"
            },
            "type": "mesh3d"
           }
          ],
          "parcoords": [
           {
            "line": {
             "colorbar": {
              "outlinewidth": 0,
              "tickcolor": "rgb(237,237,237)",
              "ticklen": 6,
              "ticks": "inside"
             }
            },
            "type": "parcoords"
           }
          ],
          "pie": [
           {
            "automargin": true,
            "type": "pie"
           }
          ],
          "scatter": [
           {
            "marker": {
             "colorbar": {
              "outlinewidth": 0,
              "tickcolor": "rgb(237,237,237)",
              "ticklen": 6,
              "ticks": "inside"
             }
            },
            "type": "scatter"
           }
          ],
          "scatter3d": [
           {
            "line": {
             "colorbar": {
              "outlinewidth": 0,
              "tickcolor": "rgb(237,237,237)",
              "ticklen": 6,
              "ticks": "inside"
             }
            },
            "marker": {
             "colorbar": {
              "outlinewidth": 0,
              "tickcolor": "rgb(237,237,237)",
              "ticklen": 6,
              "ticks": "inside"
             }
            },
            "type": "scatter3d"
           }
          ],
          "scattercarpet": [
           {
            "marker": {
             "colorbar": {
              "outlinewidth": 0,
              "tickcolor": "rgb(237,237,237)",
              "ticklen": 6,
              "ticks": "inside"
             }
            },
            "type": "scattercarpet"
           }
          ],
          "scattergeo": [
           {
            "marker": {
             "colorbar": {
              "outlinewidth": 0,
              "tickcolor": "rgb(237,237,237)",
              "ticklen": 6,
              "ticks": "inside"
             }
            },
            "type": "scattergeo"
           }
          ],
          "scattergl": [
           {
            "marker": {
             "colorbar": {
              "outlinewidth": 0,
              "tickcolor": "rgb(237,237,237)",
              "ticklen": 6,
              "ticks": "inside"
             }
            },
            "type": "scattergl"
           }
          ],
          "scattermapbox": [
           {
            "marker": {
             "colorbar": {
              "outlinewidth": 0,
              "tickcolor": "rgb(237,237,237)",
              "ticklen": 6,
              "ticks": "inside"
             }
            },
            "type": "scattermapbox"
           }
          ],
          "scatterpolar": [
           {
            "marker": {
             "colorbar": {
              "outlinewidth": 0,
              "tickcolor": "rgb(237,237,237)",
              "ticklen": 6,
              "ticks": "inside"
             }
            },
            "type": "scatterpolar"
           }
          ],
          "scatterpolargl": [
           {
            "marker": {
             "colorbar": {
              "outlinewidth": 0,
              "tickcolor": "rgb(237,237,237)",
              "ticklen": 6,
              "ticks": "inside"
             }
            },
            "type": "scatterpolargl"
           }
          ],
          "scatterternary": [
           {
            "marker": {
             "colorbar": {
              "outlinewidth": 0,
              "tickcolor": "rgb(237,237,237)",
              "ticklen": 6,
              "ticks": "inside"
             }
            },
            "type": "scatterternary"
           }
          ],
          "surface": [
           {
            "colorbar": {
             "outlinewidth": 0,
             "tickcolor": "rgb(237,237,237)",
             "ticklen": 6,
             "ticks": "inside"
            },
            "colorscale": [
             [
              0,
              "rgb(20,44,66)"
             ],
             [
              1,
              "rgb(90,179,244)"
             ]
            ],
            "type": "surface"
           }
          ],
          "table": [
           {
            "cells": {
             "fill": {
              "color": "rgb(237,237,237)"
             },
             "line": {
              "color": "white"
             }
            },
            "header": {
             "fill": {
              "color": "rgb(217,217,217)"
             },
             "line": {
              "color": "white"
             }
            },
            "type": "table"
           }
          ]
         },
         "layout": {
          "annotationdefaults": {
           "arrowhead": 0,
           "arrowwidth": 1
          },
          "autotypenumbers": "strict",
          "coloraxis": {
           "colorbar": {
            "outlinewidth": 0,
            "tickcolor": "rgb(237,237,237)",
            "ticklen": 6,
            "ticks": "inside"
           }
          },
          "colorscale": {
           "sequential": [
            [
             0,
             "rgb(20,44,66)"
            ],
            [
             1,
             "rgb(90,179,244)"
            ]
           ],
           "sequentialminus": [
            [
             0,
             "rgb(20,44,66)"
            ],
            [
             1,
             "rgb(90,179,244)"
            ]
           ]
          },
          "colorway": [
           "#F8766D",
           "#A3A500",
           "#00BF7D",
           "#00B0F6",
           "#E76BF3"
          ],
          "font": {
           "color": "rgb(51,51,51)"
          },
          "geo": {
           "bgcolor": "white",
           "lakecolor": "white",
           "landcolor": "rgb(237,237,237)",
           "showlakes": true,
           "showland": true,
           "subunitcolor": "white"
          },
          "hoverlabel": {
           "align": "left"
          },
          "hovermode": "closest",
          "paper_bgcolor": "white",
          "plot_bgcolor": "rgb(237,237,237)",
          "polar": {
           "angularaxis": {
            "gridcolor": "white",
            "linecolor": "white",
            "showgrid": true,
            "tickcolor": "rgb(51,51,51)",
            "ticks": "outside"
           },
           "bgcolor": "rgb(237,237,237)",
           "radialaxis": {
            "gridcolor": "white",
            "linecolor": "white",
            "showgrid": true,
            "tickcolor": "rgb(51,51,51)",
            "ticks": "outside"
           }
          },
          "scene": {
           "xaxis": {
            "backgroundcolor": "rgb(237,237,237)",
            "gridcolor": "white",
            "gridwidth": 2,
            "linecolor": "white",
            "showbackground": true,
            "showgrid": true,
            "tickcolor": "rgb(51,51,51)",
            "ticks": "outside",
            "zerolinecolor": "white"
           },
           "yaxis": {
            "backgroundcolor": "rgb(237,237,237)",
            "gridcolor": "white",
            "gridwidth": 2,
            "linecolor": "white",
            "showbackground": true,
            "showgrid": true,
            "tickcolor": "rgb(51,51,51)",
            "ticks": "outside",
            "zerolinecolor": "white"
           },
           "zaxis": {
            "backgroundcolor": "rgb(237,237,237)",
            "gridcolor": "white",
            "gridwidth": 2,
            "linecolor": "white",
            "showbackground": true,
            "showgrid": true,
            "tickcolor": "rgb(51,51,51)",
            "ticks": "outside",
            "zerolinecolor": "white"
           }
          },
          "shapedefaults": {
           "fillcolor": "black",
           "line": {
            "width": 0
           },
           "opacity": 0.3
          },
          "ternary": {
           "aaxis": {
            "gridcolor": "white",
            "linecolor": "white",
            "showgrid": true,
            "tickcolor": "rgb(51,51,51)",
            "ticks": "outside"
           },
           "baxis": {
            "gridcolor": "white",
            "linecolor": "white",
            "showgrid": true,
            "tickcolor": "rgb(51,51,51)",
            "ticks": "outside"
           },
           "bgcolor": "rgb(237,237,237)",
           "caxis": {
            "gridcolor": "white",
            "linecolor": "white",
            "showgrid": true,
            "tickcolor": "rgb(51,51,51)",
            "ticks": "outside"
           }
          },
          "xaxis": {
           "automargin": true,
           "gridcolor": "white",
           "linecolor": "white",
           "showgrid": true,
           "tickcolor": "rgb(51,51,51)",
           "ticks": "outside",
           "title": {
            "standoff": 15
           },
           "zerolinecolor": "white"
          },
          "yaxis": {
           "automargin": true,
           "gridcolor": "white",
           "linecolor": "white",
           "showgrid": true,
           "tickcolor": "rgb(51,51,51)",
           "ticks": "outside",
           "title": {
            "standoff": 15
           },
           "zerolinecolor": "white"
          }
         }
        },
        "title": {
         "text": "Actual vs. Forecast (Out-of-Sample)"
        },
        "xaxis": {
         "anchor": "y",
         "autorange": true,
         "domain": [
          0,
          1
         ],
         "range": [
          "2022-07-03 08:34:48.4273",
          "2022-07-11 18:25:11.5727"
         ],
         "type": "date"
        },
        "yaxis": {
         "anchor": "x",
         "autorange": true,
         "domain": [
          0,
          1
         ],
         "range": [
          -802.0674157303371,
          13970.067415730337
         ],
         "type": "linear"
        }
       }
      },
      "image/png": "[encoded data removed]"
     },
     "metadata": {},
     "output_type": "display_data"
    }
   ],
   "source": [
    "fig_kwargs = {'renderer': 'jupyterlab'}\n",
    "\n",
    "plot_model(model, 'forecast', fig_kwargs = fig_kwargs, data_kwargs = {'fh': 36 })"
   ]
  },
  {
   "cell_type": "code",
   "execution_count": null,
   "metadata": {},
   "outputs": [],
   "source": []
  }
 ],
 "metadata": {
  "kernelspec": {
   "display_name": "Python 3 (ipykernel)",
   "language": "python",
   "name": "python3"
  },
  "language_info": {
   "codemirror_mode": {
    "name": "ipython",
    "version": 3
   },
   "file_extension": ".py",
   "mimetype": "text/x-python",
   "name": "python",
   "nbconvert_exporter": "python",
   "pygments_lexer": "ipython3",
   "version": "3.7.13"
  },
  "vscode": {
   "interpreter": {
    "hash": "d8d07002b2ea33e42679b3a268310f1ecc329cdb32249234fdc5daa073265b1d"
   }
  }
 },
 "nbformat": 4,
 "nbformat_minor": 4
}
